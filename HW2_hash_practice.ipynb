{
 "cells": [
  {
   "cell_type": "code",
   "execution_count": 1,
   "id": "8e4fca71-66be-44c2-a6e7-d460fe9debd2",
   "metadata": {},
   "outputs": [
    {
     "name": "stdout",
     "output_type": "stream",
     "text": [
      "<_io.TextIOWrapper name='hw2_data.txt' mode='r' encoding='cp950'>\n"
     ]
    }
   ],
   "source": [
    "data = open('hw2_data.txt') #打開資料集\n",
    "print(data)"
   ]
  },
  {
   "cell_type": "code",
   "execution_count": 2,
   "id": "ec57acb5-6420-4a09-84ce-3cd7cee786ba",
   "metadata": {},
   "outputs": [],
   "source": [
    "llist = []\n",
    "while True :\n",
    "    inp = data.readline().strip()\n",
    "    if inp == '' :\n",
    "        break\n",
    "    else :\n",
    "        llist.append(inp)"
   ]
  },
  {
   "cell_type": "code",
   "execution_count": 3,
   "id": "527bcc7f-fd25-45d4-b09c-c219a7d91477",
   "metadata": {},
   "outputs": [
    {
     "name": "stdout",
     "output_type": "stream",
     "text": [
      "{'Cheese': 234, 'Pizza': 83, 'Coke': 145, 'Steak': 46, 'Burger': 196, 'Fries': 76, 'Rib': 33, 'Taco': 57, 'Pho': 19, 'Potato': 3}\n"
     ]
    }
   ],
   "source": [
    "dic = {}\n",
    "for i in range(len(llist)) : #每讀到一次重複的，數值加一\n",
    "    if llist[i] not in dic.keys() :\n",
    "        dic[llist[i]] = 1\n",
    "    else :\n",
    "        dic[llist[i]] += 1\n",
    "print(dic)"
   ]
  },
  {
   "cell_type": "code",
   "execution_count": 4,
   "id": "46d206a0-ce65-4d1b-ab56-41abb79cf9fd",
   "metadata": {},
   "outputs": [
    {
     "name": "stdout",
     "output_type": "stream",
     "text": [
      "沒有資料不重複出現\n"
     ]
    }
   ],
   "source": [
    "Bool = False\n",
    "for key in dic.keys() :\n",
    "    if dic[key] == 1 :\n",
    "        Bool = True\n",
    "        print(dic[key], end = ' ')\n",
    "if Bool == False :\n",
    "    print('沒有資料不重複出現')\n",
    "else :\n",
    "    print('以上資料只出現一次')"
   ]
  },
  {
   "cell_type": "code",
   "execution_count": 5,
   "id": "bca47101-3817-49bb-a421-1dd405275489",
   "metadata": {},
   "outputs": [
    {
     "name": "stdout",
     "output_type": "stream",
     "text": [
      "Cheese出現234次\n",
      "Pizza出現83次\n",
      "Coke出現145次\n",
      "Steak出現46次\n",
      "Burger出現196次\n",
      "Fries出現76次\n",
      "Rib出現33次\n",
      "Taco出現57次\n",
      "Pho出現19次\n",
      "Potato出現3次\n"
     ]
    }
   ],
   "source": [
    "for key in dic.keys() :\n",
    "    print('%s出現%d次' %(key, dic[key]))"
   ]
  },
  {
   "cell_type": "code",
   "execution_count": null,
   "id": "c9bb0d25-3316-494a-9c04-b3d57dd1f49c",
   "metadata": {},
   "outputs": [],
   "source": []
  }
 ],
 "metadata": {
  "kernelspec": {
   "display_name": "Python 3",
   "language": "python",
   "name": "python3"
  },
  "language_info": {
   "codemirror_mode": {
    "name": "ipython",
    "version": 3
   },
   "file_extension": ".py",
   "mimetype": "text/x-python",
   "name": "python",
   "nbconvert_exporter": "python",
   "pygments_lexer": "ipython3",
   "version": "3.8.8"
  }
 },
 "nbformat": 4,
 "nbformat_minor": 5
}
